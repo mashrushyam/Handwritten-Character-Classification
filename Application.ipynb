{
 "cells": [
  {
   "cell_type": "code",
   "execution_count": 15,
   "id": "4955f7f8",
   "metadata": {},
   "outputs": [
    {
     "name": "stderr",
     "output_type": "stream",
     "text": [
      "WARNING:absl:Compiled the loaded model, but the compiled metrics have yet to be built. `model.compile_metrics` will be empty until you train or evaluate the model.\n",
      "WARNING:absl:Compiled the loaded model, but the compiled metrics have yet to be built. `model.compile_metrics` will be empty until you train or evaluate the model.\n"
     ]
    },
    {
     "name": "stdout",
     "output_type": "stream",
     "text": [
      "* Running on local URL:  http://127.0.0.1:7865\n",
      "\n",
      "To create a public link, set `share=True` in `launch()`.\n"
     ]
    },
    {
     "data": {
      "text/html": [
       "<div><iframe src=\"http://127.0.0.1:7865/\" width=\"100%\" height=\"500\" allow=\"autoplay; camera; microphone; clipboard-read; clipboard-write;\" frameborder=\"0\" allowfullscreen></iframe></div>"
      ],
      "text/plain": [
       "<IPython.core.display.HTML object>"
      ]
     },
     "metadata": {},
     "output_type": "display_data"
    },
    {
     "data": {
      "text/plain": []
     },
     "execution_count": 15,
     "metadata": {},
     "output_type": "execute_result"
    },
    {
     "name": "stdout",
     "output_type": "stream",
     "text": [
      "\u001b[1m1/1\u001b[0m \u001b[32m━━━━━━━━━━━━━━━━━━━━\u001b[0m\u001b[37m\u001b[0m \u001b[1m0s\u001b[0m 143ms/step\n",
      "\u001b[1m1/1\u001b[0m \u001b[32m━━━━━━━━━━━━━━━━━━━━\u001b[0m\u001b[37m\u001b[0m \u001b[1m0s\u001b[0m 19ms/step\n",
      "\u001b[1m1/1\u001b[0m \u001b[32m━━━━━━━━━━━━━━━━━━━━\u001b[0m\u001b[37m\u001b[0m \u001b[1m0s\u001b[0m 32ms/step\n",
      "\u001b[1m1/1\u001b[0m \u001b[32m━━━━━━━━━━━━━━━━━━━━\u001b[0m\u001b[37m\u001b[0m \u001b[1m0s\u001b[0m 67ms/step\n",
      "\u001b[1m1/1\u001b[0m \u001b[32m━━━━━━━━━━━━━━━━━━━━\u001b[0m\u001b[37m\u001b[0m \u001b[1m0s\u001b[0m 28ms/step\n",
      "\u001b[1m1/1\u001b[0m \u001b[32m━━━━━━━━━━━━━━━━━━━━\u001b[0m\u001b[37m\u001b[0m \u001b[1m0s\u001b[0m 20ms/step\n"
     ]
    }
   ],
   "source": [
    "import numpy as np\n",
    "import tensorflow as tf\n",
    "from tensorflow.keras.models import load_model\n",
    "from PIL import Image\n",
    "import gradio as gr\n",
    "\n",
    "# Load pre-trained models\n",
    "ann_model = tf.keras.models.load_model(\"model_ann.h5\")\n",
    "cnn_model = tf.keras.models.load_model(\"model_cnn.h5\")\n",
    "\n",
    "# Define label mapping for EMNIST Balanced (47 classes)\n",
    "# 0-9: Digits, 10-35: Uppercase A-Z, 36-46: Lowercase a-j\n",
    "emnist_classes = [chr(i) for i in range(48, 58)] + [chr(i) for i in range(65, 91)] + [chr(i) for i in range(97, 107)]\n",
    "\n",
    "# Preprocessing function\n",
    "def preprocess_image(image):\n",
    "    \"\"\"\n",
    "    Preprocess the input image to match the EMNIST format:\n",
    "    - Grayscale\n",
    "    - Resize to 28x28\n",
    "    - Normalize pixel values to [0, 1]\n",
    "    - Invert colors to match EMNIST's white-on-black format\n",
    "    \"\"\"\n",
    "    image = image.convert(\"L\")  # Convert to grayscale\n",
    "    image = image.resize((28, 28))  # Resize to 28x28\n",
    "    image = np.array(image) / 255.0  # Normalize to [0, 1]\n",
    "    image = 1 - image  # Invert colors\n",
    "    return image\n",
    "\n",
    "# Prediction function\n",
    "def predict_character(image, model_choice):\n",
    "    # Preprocess the image\n",
    "    processed_image = preprocess_image(image)\n",
    "    \n",
    "    if model_choice == \"ANN\":\n",
    "        # ANN expects a flat input of shape (784,)\n",
    "        input_data = processed_image.flatten().reshape(1, 784)\n",
    "        prediction = ann_model.predict(input_data)\n",
    "    elif model_choice == \"CNN\":\n",
    "        # CNN expects input of shape (28, 28, 1)\n",
    "        input_data = processed_image.reshape(1, 28, 28, 1)\n",
    "        prediction = cnn_model.predict(input_data)\n",
    "    else:\n",
    "        return \"Invalid Model Choice\"\n",
    "    \n",
    "    # Get the predicted class\n",
    "    predicted_class = np.argmax(prediction)\n",
    "    predicted_character = emnist_classes[predicted_class]\n",
    "    confidence = np.max(prediction) * 100  # Confidence as percentage\n",
    "    \n",
    "    return f\"Prediction: {predicted_character} (Confidence: {confidence:.2f}%)\"\n",
    "\n",
    "# Gradio Interface\n",
    "def interface(image, model_choice):\n",
    "    return predict_character(image, model_choice)\n",
    "\n",
    "with gr.Blocks() as gui:\n",
    "    gr.Markdown(\"## Handwritten Character Classification\")\n",
    "    gr.Markdown(\n",
    "        \"Upload a handwritten character image (digit, uppercase letter, or lowercase letter), \"\n",
    "        \"and select the model (ANN or CNN) for prediction.\"\n",
    "    )\n",
    "    \n",
    "    with gr.Row():\n",
    "        with gr.Column():\n",
    "            image_input = gr.Image(type=\"pil\", label=\"Upload Handwritten Character Image\")\n",
    "            model_input = gr.Radio(\n",
    "                choices=[\"ANN\", \"CNN\"], value=\"CNN\", label=\"Select Model\"\n",
    "            )\n",
    "        with gr.Column():\n",
    "            output_label = gr.Label(label=\"Prediction\")\n",
    "    \n",
    "    predict_button = gr.Button(\"Predict\")\n",
    "    predict_button.click(\n",
    "        interface,\n",
    "        inputs=[image_input, model_input],\n",
    "        outputs=output_label\n",
    "    )\n",
    "\n",
    "# Launch the GUI\n",
    "gui.launch()\n"
   ]
  }
 ],
 "metadata": {
  "kernelspec": {
   "display_name": "Python 3 (ipykernel)",
   "language": "python",
   "name": "python3"
  },
  "language_info": {
   "codemirror_mode": {
    "name": "ipython",
    "version": 3
   },
   "file_extension": ".py",
   "mimetype": "text/x-python",
   "name": "python",
   "nbconvert_exporter": "python",
   "pygments_lexer": "ipython3",
   "version": "3.11.5"
  }
 },
 "nbformat": 4,
 "nbformat_minor": 5
}
